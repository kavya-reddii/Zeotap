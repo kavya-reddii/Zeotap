{
 "cells": [
  {
   "cell_type": "code",
   "execution_count": 2,
   "metadata": {},
   "outputs": [],
   "source": [
    "import pandas as pd\n",
    "import numpy as np\n",
    "from sklearn.metrics.pairwise import cosine_similarity\n",
    "from sklearn.preprocessing import StandardScaler\n",
    "import csv\n",
    "\n"
   ]
  },
  {
   "cell_type": "code",
   "execution_count": 3,
   "metadata": {},
   "outputs": [
    {
     "name": "stdout",
     "output_type": "stream",
     "text": [
      "  CustomerID        CustomerName         Region  SignupDate\n",
      "0      C0001    Lawrence Carroll  South America  2022-07-10\n",
      "1      C0002      Elizabeth Lutz           Asia  2022-02-13\n",
      "2      C0003      Michael Rivera  South America  2024-03-07\n",
      "3      C0004  Kathleen Rodriguez  South America  2022-10-09\n",
      "4      C0005         Laura Weber           Asia  2022-08-15\n",
      "  ProductID              ProductName     Category   Price\n",
      "0      P001     ActiveWear Biography        Books  169.30\n",
      "1      P002    ActiveWear Smartwatch  Electronics  346.30\n",
      "2      P003  ComfortLiving Biography        Books   44.12\n",
      "3      P004            BookWorld Rug   Home Decor   95.69\n",
      "4      P005          TechPro T-Shirt     Clothing  429.31\n",
      "  TransactionID CustomerID ProductID      TransactionDate  Quantity  \\\n",
      "0        T00001      C0199      P067  2024-08-25 12:38:23         1   \n",
      "1        T00112      C0146      P067  2024-05-27 22:23:54         1   \n",
      "2        T00166      C0127      P067  2024-04-25 07:38:55         1   \n",
      "3        T00272      C0087      P067  2024-03-26 22:55:37         2   \n",
      "4        T00363      C0070      P067  2024-03-21 15:10:10         3   \n",
      "\n",
      "   TotalValue   Price  \n",
      "0      300.68  300.68  \n",
      "1      300.68  300.68  \n",
      "2      300.68  300.68  \n",
      "3      601.36  300.68  \n",
      "4      902.04  300.68  \n"
     ]
    }
   ],
   "source": [
    "# Load datasets\n",
    "customers = pd.read_csv('./data/Customers.csv')\n",
    "products = pd.read_csv('./data/Products.csv')\n",
    "transactions = pd.read_csv('./data/Transactions.csv')\n",
    "\n",
    "# Display first few rows for verification\n",
    "print(customers.head())\n",
    "print(products.head())\n",
    "print(transactions.head())\n"
   ]
  },
  {
   "cell_type": "code",
   "execution_count": 6,
   "metadata": {},
   "outputs": [
    {
     "name": "stdout",
     "output_type": "stream",
     "text": [
      "Index(['ProductID', 'ProductName', 'Category', 'Price'], dtype='object')\n",
      "Index(['TransactionID', 'CustomerID', 'ProductID', 'TransactionDate',\n",
      "       'Quantity', 'TotalValue', 'Price'],\n",
      "      dtype='object')\n"
     ]
    }
   ],
   "source": [
    "print(products.columns)  # Check columns in Products.csv\n",
    "print(transactions.columns)  # Check columns in Transactions.csv\n"
   ]
  },
  {
   "cell_type": "code",
   "execution_count": 7,
   "metadata": {},
   "outputs": [
    {
     "name": "stdout",
     "output_type": "stream",
     "text": [
      "Index(['TransactionID', 'CustomerID', 'ProductID', 'TransactionDate',\n",
      "       'Quantity', 'TotalValue', 'Price_x', 'CustomerName', 'Region',\n",
      "       'SignupDate', 'ProductName', 'Category', 'Price_y'],\n",
      "      dtype='object')\n"
     ]
    }
   ],
   "source": [
    "data = transactions.merge(customers, on='CustomerID').merge(products, on='ProductID')\n",
    "print(data.columns)  # Print all columns in the merged DataFrame\n"
   ]
  },
  {
   "cell_type": "code",
   "execution_count": 9,
   "metadata": {},
   "outputs": [],
   "source": [
    "# Merge datasets\n",
    "# Ensure Price is included correctly during the merge\n",
    "data = transactions.merge(customers, on='CustomerID').merge(products[['ProductID', 'Price']], on='ProductID')\n",
    "\n",
    "# Aggregate customer features\n",
    "customer_features = data.groupby('CustomerID').agg({\n",
    "    'TotalValue': 'sum',  # Total value of all transactions\n",
    "    'Quantity': 'sum',    # Total quantity purchased\n",
    "    'Price_x': 'mean'       # Average price of purchased products\n",
    "}).reset_index()\n",
    "\n",
    "# Normalize features\n",
    "scaler = StandardScaler()\n",
    "features = scaler.fit_transform(customer_features[['TotalValue', 'Quantity', 'Price_x']])\n",
    "\n"
   ]
  },
  {
   "cell_type": "code",
   "execution_count": 10,
   "metadata": {},
   "outputs": [],
   "source": [
    "# Compute similarity matrix\n",
    "similarity_matrix = cosine_similarity(features)\n",
    "\n",
    "# Create a lookalike dictionary for recommendations\n",
    "lookalikes = {}\n",
    "for i, customer in enumerate(customer_features['CustomerID']):\n",
    "    similar_indices = np.argsort(-similarity_matrix[i])[1:4]  # Top 3 similar customers\n",
    "    similar_customers = [(customer_features['CustomerID'][j], similarity_matrix[i][j]) for j in similar_indices]\n",
    "    lookalikes[customer] = similar_customers\n"
   ]
  },
  {
   "cell_type": "code",
   "execution_count": 11,
   "metadata": {},
   "outputs": [
    {
     "name": "stdout",
     "output_type": "stream",
     "text": [
      "CustomerID: C0001, Recommendations: [('C0103', np.float64(0.9975729385618538)), ('C0092', np.float64(0.9968787968825864)), ('C0135', np.float64(0.9927364238882178))]\n",
      "CustomerID: C0002, Recommendations: [('C0029', np.float64(0.9998543931340029)), ('C0077', np.float64(0.9961038168882547)), ('C0157', np.float64(0.9954784900159904))]\n",
      "CustomerID: C0003, Recommendations: [('C0111', np.float64(0.9984874468302141)), ('C0190', np.float64(0.9966561574371822)), ('C0038', np.float64(0.9901332836738033))]\n",
      "CustomerID: C0004, Recommendations: [('C0165', np.float64(0.9983897071764074)), ('C0162', np.float64(0.9980867096016259)), ('C0075', np.float64(0.996932345616167))]\n",
      "CustomerID: C0005, Recommendations: [('C0167', np.float64(0.9999721868436701)), ('C0020', np.float64(0.99971426883456)), ('C0128', np.float64(0.9987615592886807))]\n",
      "CustomerID: C0006, Recommendations: [('C0168', np.float64(0.9976122332196319)), ('C0196', np.float64(0.9950250564515252)), ('C0187', np.float64(0.9947524750205508))]\n",
      "CustomerID: C0007, Recommendations: [('C0125', np.float64(0.9998486580402707)), ('C0089', np.float64(0.99834375759003)), ('C0085', np.float64(0.9960335186380587))]\n",
      "CustomerID: C0008, Recommendations: [('C0084', np.float64(0.9960866913262758)), ('C0113', np.float64(0.9958170325568012)), ('C0017', np.float64(0.993173208985394))]\n",
      "CustomerID: C0009, Recommendations: [('C0130', np.float64(0.9999651017117013)), ('C0128', np.float64(0.9985963548763069)), ('C0192', np.float64(0.9985908489461927))]\n",
      "CustomerID: C0010, Recommendations: [('C0176', np.float64(0.9994511608148322)), ('C0055', np.float64(0.9938405529191887)), ('C0174', np.float64(0.9927444551206617))]\n",
      "CustomerID: C0011, Recommendations: [('C0023', np.float64(0.9991440715038482)), ('C0139', np.float64(0.986516222171265)), ('C0100', np.float64(0.9850016770913713))]\n",
      "CustomerID: C0012, Recommendations: [('C0101', np.float64(0.9999587274161242)), ('C0093', np.float64(0.9996220951792167)), ('C0153', np.float64(0.9994774664125199))]\n",
      "CustomerID: C0013, Recommendations: [('C0021', np.float64(0.9996872905926021)), ('C0141', np.float64(0.9977202433858623)), ('C0059', np.float64(0.9974582304694569))]\n",
      "CustomerID: C0014, Recommendations: [('C0097', np.float64(0.9987194918246621)), ('C0043', np.float64(0.997028656874292)), ('C0032', np.float64(0.9962680059155485))]\n",
      "CustomerID: C0015, Recommendations: [('C0058', np.float64(0.9988538808142926)), ('C0186', np.float64(0.9942941310767258)), ('C0131', np.float64(0.9925119270458044))]\n",
      "CustomerID: C0016, Recommendations: [('C0040', np.float64(0.9996938077843687)), ('C0107', np.float64(0.998853319148621)), ('C0066', np.float64(0.9979863451056683))]\n",
      "CustomerID: C0017, Recommendations: [('C0113', np.float64(0.9996650162383117)), ('C0084', np.float64(0.9947513763012199)), ('C0008', np.float64(0.993173208985394))]\n",
      "CustomerID: C0018, Recommendations: [('C0041', np.float64(0.9939468680584729)), ('C0068', np.float64(0.9928505306919447)), ('C0004', np.float64(0.9899798786769836))]\n",
      "CustomerID: C0019, Recommendations: [('C0166', np.float64(0.9972891718322159)), ('C0031', np.float64(0.9942266796584924)), ('C0088', np.float64(0.988374423934766))]\n",
      "CustomerID: C0020, Recommendations: [('C0005', np.float64(0.99971426883456)), ('C0128', np.float64(0.9995779165091033)), ('C0167', np.float64(0.9995081896622053))]\n"
     ]
    }
   ],
   "source": [
    "# Get recommendations for the first 20 customers (C0001 to C0020)\n",
    "for customer_id in customer_features['CustomerID'][:20]:\n",
    "    print(f\"CustomerID: {customer_id}, Recommendations: {lookalikes[customer_id]}\")\n"
   ]
  },
  {
   "cell_type": "code",
   "execution_count": 12,
   "metadata": {},
   "outputs": [],
   "source": [
    "import csv\n",
    "with open('FirstName_LastName_Lookalike.csv', 'w') as f:\n",
    "    writer = csv.writer(f)\n",
    "    writer.writerow(['CustomerID', 'Lookalikes'])\n",
    "    for key, value in lookalikes.items():\n",
    "        writer.writerow([key, value])"
   ]
  }
 ],
 "metadata": {
  "kernelspec": {
   "display_name": ".venv",
   "language": "python",
   "name": "python3"
  },
  "language_info": {
   "codemirror_mode": {
    "name": "ipython",
    "version": 3
   },
   "file_extension": ".py",
   "mimetype": "text/x-python",
   "name": "python",
   "nbconvert_exporter": "python",
   "pygments_lexer": "ipython3",
   "version": "3.12.2"
  }
 },
 "nbformat": 4,
 "nbformat_minor": 2
}
